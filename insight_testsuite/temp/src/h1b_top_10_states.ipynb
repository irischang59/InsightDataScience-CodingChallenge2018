{
 "cells": [
  {
   "cell_type": "code",
   "execution_count": 1,
   "metadata": {
    "collapsed": true
   },
   "outputs": [],
   "source": [
    "import sys  \n",
    "import os\n",
    "import numpy as np\n",
    "import csv\n",
    "import collections\n",
    "import operator"
   ]
  },
  {
   "cell_type": "code",
   "execution_count": 2,
   "metadata": {
    "collapsed": true
   },
   "outputs": [],
   "source": [
    "# read in csv file and store data into array\n",
    "list1 = []\n",
    "with open('../input/h1b_input.csv') as csvfile:\n",
    "    f = csv.reader(csvfile, delimiter=';')\n",
    "    for row in f:\n",
    "        list1.append(row)\n",
    "arr1 = np.asarray(list1)"
   ]
  },
  {
   "cell_type": "code",
   "execution_count": 3,
   "metadata": {
    "collapsed": true
   },
   "outputs": [],
   "source": [
    "# select 'CASE_STATUS' & 'WORKSITE_STATE' columns\n",
    "arr2 = arr1[:,[2,50]]"
   ]
  },
  {
   "cell_type": "code",
   "execution_count": 4,
   "metadata": {
    "collapsed": true
   },
   "outputs": [],
   "source": [
    "# delete header\n",
    "arr3 = np.delete(arr2, 0, 0)\n",
    "\n",
    "# keep rows where 'CASE_STATUS' is 'CERTIFIED'\n",
    "arr4 = arr3[np.where(arr3[:,0] == 'CERTIFIED')]"
   ]
  },
  {
   "cell_type": "code",
   "execution_count": 5,
   "metadata": {
    "collapsed": true
   },
   "outputs": [],
   "source": [
    "# define a function which returns a dictionary data structure whose keys are array elements and values are their corresponding frequencies\n",
    "def CountFrequency(arr): \n",
    "    return collections.Counter(arr)"
   ]
  },
  {
   "cell_type": "code",
   "execution_count": 6,
   "metadata": {
    "collapsed": true
   },
   "outputs": [],
   "source": [
    "# count frequency of each occupation\n",
    "freq = CountFrequency(arr4[:,1])"
   ]
  },
  {
   "cell_type": "code",
   "execution_count": 7,
   "metadata": {
    "collapsed": true
   },
   "outputs": [],
   "source": [
    "# total cases\n",
    "total = np.size(arr3,0)"
   ]
  },
  {
   "cell_type": "code",
   "execution_count": 8,
   "metadata": {
    "collapsed": true
   },
   "outputs": [],
   "source": [
    "temp = []\n",
    "dictList = []\n",
    "# sort the values in descending order and the keys alphabetically in ascending order\n",
    "for key, value in sorted(freq.iteritems(), key=lambda (k,v):(-v, k)):\n",
    "    temp = [key,value]\n",
    "    dictList.append(temp)"
   ]
  },
  {
   "cell_type": "code",
   "execution_count": 9,
   "metadata": {
    "collapsed": true
   },
   "outputs": [],
   "source": [
    "# define a function to calculate the percentage of certified applications\n",
    "def percentage(a,b):\n",
    "    return round(a/b*100,1)"
   ]
  },
  {
   "cell_type": "code",
   "execution_count": 10,
   "metadata": {
    "collapsed": true
   },
   "outputs": [],
   "source": [
    "# convert the percentage from float to string and add '%' symbol\n",
    "for i in range(np.shape(dictList)[0]):\n",
    "    dictList[i].append(str(percentage(float(dictList[i][1]),total))+ '%')"
   ]
  },
  {
   "cell_type": "code",
   "execution_count": 11,
   "metadata": {
    "collapsed": true
   },
   "outputs": [],
   "source": [
    "# create 'TOP_OCCUPATIONS' & 'NUMBER_CERTIFIED_APPLICATIONS' & 'PERCENTAGE' lists and write then into text files respectively\n",
    "ls_1 = [item[0] for item in dictList]\n",
    "ls_1_new = []\n",
    "for item in ls_1:\n",
    "    ls_1_new.append(item+\";\")\n",
    "ls_1_new = \"\\n\".join(map(lambda x: str(x), ls_1_new))\n",
    "\n",
    "textfile1 = open('textfile4.txt', 'w')\n",
    "textfile1.write(ls_1_new)\n",
    "textfile1.close()"
   ]
  },
  {
   "cell_type": "code",
   "execution_count": 12,
   "metadata": {
    "collapsed": true
   },
   "outputs": [],
   "source": [
    "ls_2 = [item[1] for item in dictList]\n",
    "ls_2_new = []\n",
    "for item in ls_2:\n",
    "    ls_2_new.append(str(item)+\";\")\n",
    "ls_2_new = \"\\n\".join(map(lambda x: str(x), ls_2_new))\n",
    "\n",
    "textfile2 = open('textfile5.txt', 'w')\n",
    "textfile2.write(ls_2_new)\n",
    "textfile2.close()"
   ]
  },
  {
   "cell_type": "code",
   "execution_count": 13,
   "metadata": {
    "collapsed": true
   },
   "outputs": [],
   "source": [
    "ls_3 = [item[2] for item in dictList]\n",
    "ls_3_new = []\n",
    "for item in ls_3:\n",
    "    ls_3_new.append(item)\n",
    "ls_3_new = \"\\n\".join(map(lambda x: str(x), ls_3_new))\n",
    "\n",
    "textfile3 = open('textfile6.txt', 'w')\n",
    "textfile3.write(ls_3_new)\n",
    "textfile3.close()"
   ]
  },
  {
   "cell_type": "code",
   "execution_count": 14,
   "metadata": {
    "collapsed": true
   },
   "outputs": [],
   "source": [
    "# concatenate text files line by line and output the final text file to the desired directory\n",
    "textfile1 = open(\"textfile4.txt\", \"r\")\n",
    "textfile2 = open(\"textfile5.txt\", \"r\")\n",
    "textfile3 = open(\"textfile6.txt\", \"r\")\n",
    "\n",
    "out = open(\"../output/top_10_states.txt\", \"w\")\n",
    "out.write(\"TOP_STATES;NUMBER_CERTIFIED_APPLICATIONS;PERCENTAGE\\n\")\n",
    "for line in textfile1:\n",
    "    out.write(line.strip() + textfile2.readline().strip() + textfile3.readline().strip())\n",
    "    out.write(\"\\n\")\n",
    "out.close()"
   ]
  }
 ],
 "metadata": {
  "kernelspec": {
   "display_name": "Python 2",
   "language": "python",
   "name": "python2"
  },
  "language_info": {
   "codemirror_mode": {
    "name": "ipython",
    "version": 2
   },
   "file_extension": ".py",
   "mimetype": "text/x-python",
   "name": "python",
   "nbconvert_exporter": "python",
   "pygments_lexer": "ipython2",
   "version": "2.7.3"
  }
 },
 "nbformat": 4,
 "nbformat_minor": 2
}
